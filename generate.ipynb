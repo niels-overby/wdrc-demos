{
 "cells": [
  {
   "cell_type": "code",
   "execution_count": 22,
   "id": "dc7cbba8-ea26-4af5-90bc-2248395faf7d",
   "metadata": {},
   "outputs": [],
   "source": [
    "import json\n",
    "import numpy as np\n",
    "import matplotlib.pyplot as plt\n",
    "from components_ import scene_creator, processor_creator\n",
    "from lyd import utils, processing\n",
    "from scipy.io import wavfile\n",
    "from lyd import wdrc\n",
    "import os\n",
    "\n",
    "import markdown\n",
    "\n",
    "def audio_entry(name):\n",
    "    string = f'''<audio src=\"assets/colocated/{name}\"  controls style=\"width: 250px\">'</audio>'''\n",
    "    return string\n",
    "from IPython.display import HTML, display"
   ]
  },
  {
   "cell_type": "markdown",
   "id": "239b0a54",
   "metadata": {},
   "source": [
    "# Generate data"
   ]
  },
  {
   "cell_type": "code",
   "execution_count": 24,
   "id": "4960ac67-10fc-4128-a0f4-9da8502d9c80",
   "metadata": {
    "tags": []
   },
   "outputs": [
    {
     "name": "stdout",
     "output_type": "stream",
     "text": [
      "100.0\n",
      "45.0\n",
      "45.0\n",
      "45.0\n",
      "Done\n"
     ]
    }
   ],
   "source": [
    "# Initialize objects\n",
    "stimuli = scene_creator(2)\n",
    "pL = processor_creator(fs=16e3)\n",
    "pF = processor_creator(fs=16e3)\n",
    "pS = processor_creator(fs=16e3)\n",
    "pA = processor_creator(fs=16e3)\n",
    "\n",
    "\n",
    "# Level adjuster\n",
    "level_adjuster = processing.AdjustLevel(-30)\n",
    "\n",
    "# Stimuli parameters\n",
    "stimuli.update_param('signal_level',65)\n",
    "stimuli.update_param('noise_type','Stationary')\n",
    "\n",
    "# Initialize processes\n",
    "pL.update_param('thr',100)\n",
    "pL.update_param('ratio',1)\n",
    "pL.update_param('wdrc','Slow Acting')\n",
    "\n",
    "pF.update_param('thr',45)\n",
    "pF.update_param('ratio',3)\n",
    "pF.update_param('wdrc','Fast Acting')\n",
    "\n",
    "pS.update_param('thr',45)\n",
    "pS.update_param('ratio',3)\n",
    "pS.update_param('wdrc','Slow Acting')\n",
    "\n",
    "pA.update_param('thr',45)\n",
    "pA.update_param('ratio',3)\n",
    "pA.update_param('wdrc','Aware')\n",
    "\n",
    "f_wdrc = wdrc.WDRC(atk=5e-3,rel=50e-3,thr=45,ratio=3,fs=16e3)\n",
    "b_wdrc = wdrc.WDRC(atk=5e-3,rel=2000e-3,thr=45,ratio=3,fs=16e3)\n",
    "\n",
    "# Create dictionaries to iterate through\n",
    "wdrc_dict = {\n",
    "    'lin':pL,\n",
    "    'fast':pF,\n",
    "    'slow':pS,\n",
    "    'aware':pA,\n",
    "    'ideal':'ideal'\n",
    "}\n",
    "rooms = {\n",
    "    'Anechoic' : 'Anechoic',\n",
    "    'Reverberant' : 'D'\n",
    "}\n",
    "snrs = {\n",
    "    'inf' : 300,\n",
    "    'high' : 16,\n",
    "    'medium' : 6,\n",
    "    'low' : 0\n",
    "}\n",
    "nrs = {\n",
    "    'nr_off' : \"None\",\n",
    "    'nr_on' : \"Moderate\"\n",
    "}\n",
    "\n",
    "noise_types = {\n",
    "    'Stationary' : 'Stationary',\n",
    "    'Modulated' : 'Modulated'\n",
    "}\n",
    "\n",
    "# Initialize table\n",
    "data = []\n",
    "data.append([\n",
    "    '<b>Scene</b> [Room_noise_snr_noise-reduction]',\n",
    "    '<b>Linear gain</b>',\n",
    "    '<b>Fast acting WDRC</b>',\n",
    "    '<b>Slow acting WDRC</b>',\n",
    "    '<b>Scene-aware WDRC</b>',\n",
    "    '<b><i>ideal WDRC</i></b>'])\n",
    "\n",
    "# Iterate over conditions\n",
    "for noise_key, noise_val in noise_types.items():\n",
    "    stimuli.update_param('noise_type',noise_val)\n",
    "\n",
    "    for nr_key, nr_val in nrs.items():\n",
    "        pL.update_param('nr',nr_val)\n",
    "        pF.update_param('nr',nr_val)\n",
    "        pS.update_param('nr',nr_val)\n",
    "        pA.update_param('nr',nr_val)\n",
    "\n",
    "        # Iterate over rooms\n",
    "        for room_key, room_val in rooms.items():\n",
    "            stimuli.update_param('room',room_val)\n",
    "            \n",
    "            # Iterate over snr\n",
    "            for snr_key, snr_val in snrs.items():\n",
    "                stimuli.update_param('snr',snr_val)\n",
    "                \n",
    "                # Generate stimuli\n",
    "                stimuli.gen_scene()\n",
    "                f,b,mix = stimuli.stim.transform()\n",
    "\n",
    "                # Save input\n",
    "                #mix_adjusted = level_adjuster(mix)\n",
    "                name = f\"{room_key.lower()}-SNR_{snr_key}.wav\"\n",
    "            \n",
    "                \n",
    "                row = []\n",
    "                #row.append(f\"{room_key.lower()}-SNR_{snr_key}-nr_{nr_val}\")\n",
    "                row.append(f\"<small><b>ROOM</b>-{room_key.lower()}-<b>NOISE_</b>{noise_key}<br><b>SNR_</b>{snr_key}-<b>NR</b>_{nr_val}</small>\")\n",
    "                #row.append(audio_entry(name))\n",
    "\n",
    "                # Iterate over compressors\n",
    "                for wdrc_key, wdrc_val in wdrc_dict.items():\n",
    "\n",
    "                    if wdrc_key != 'ideal':\n",
    "                        wdrc_val.gen_sys()\n",
    "                        s = wdrc_val.s\n",
    "                        \n",
    "                        # Process signal\n",
    "                        xc = s.transform(mix,b)\n",
    "                    else:\n",
    "                        fc = f_wdrc.transform(f)\n",
    "                        bc = b_wdrc.transform(b)\n",
    "                        if nr_key != 'None':\n",
    "                            bc *= utils.from_dB(-12)\n",
    "                        xc = fc+bc\n",
    "\n",
    "\n",
    "\n",
    "                    xc_adjusted = level_adjuster(xc)[:,8000:]\n",
    "\n",
    "                    if xc_adjusted.min() < -0.95:\n",
    "                        print(xc_adjusted.min())\n",
    "                    if xc_adjusted.max() > 0.95:\n",
    "                        print(xc_adjusted.max())\n",
    "\n",
    "                    name = f\"{room_key.lower()}-NOISE_{noise_key}-SNR_{snr_key}-NR_{nr_key}-wdrc_{wdrc_key}\"\n",
    "                    wavfile.write(\"docs/assets/colocated/\"+name+\".wav\",16000,xc_adjusted.T.astype(np.float32))\n",
    "\n",
    "\n",
    "                    row.append(audio_entry(name+\".mp3\"))\n",
    "\n",
    "                #name = f\"{room_key.lower()}-SNR_{snr_key}.wav\"\n",
    "                name = f\"{room_key.lower()}-NOISE_{noise_key}-SNR_{snr_key}\"\n",
    "                data.append(row)\n",
    "        \n",
    "        data.append(['--','--','--','--','--'])\n",
    "\n",
    "# Convert to mp3\n",
    "os.system('for i in docs/assets/colocated/*.wav; do ffmpeg -i \"$i\" \"${i%.*}.mp3\" -loglevel quiet; done')\n",
    "\n",
    "# Delete wav files\n",
    "os.system(\"rm docs/assets/colocated/*.wav\")\n",
    "        \n",
    "print(\"Done\")"
   ]
  },
  {
   "cell_type": "code",
   "execution_count": 18,
   "id": "df6c2ef5",
   "metadata": {},
   "outputs": [
    {
     "data": {
      "text/plain": [
       "0"
      ]
     },
     "execution_count": 18,
     "metadata": {},
     "output_type": "execute_result"
    }
   ],
   "source": []
  },
  {
   "cell_type": "code",
   "execution_count": 19,
   "id": "c013d8c5",
   "metadata": {},
   "outputs": [
    {
     "data": {
      "text/plain": [
       "0"
      ]
     },
     "execution_count": 19,
     "metadata": {},
     "output_type": "execute_result"
    }
   ],
   "source": [
    "os.system(\"rm docs/assets/spatial/*.mp3\")"
   ]
  },
  {
   "attachments": {},
   "cell_type": "markdown",
   "id": "89edaf66",
   "metadata": {},
   "source": [
    "# Audio \n",
    "\n",
    "### Properties\n",
    "- *Stationary noise (ICRA01)*\n",
    "- Rooms: \n",
    "    - Anechoic (Surrey Anechoic), or\n",
    "    - Reverberant (Surrey Room D)\n",
    "- Speech: TIMIT\n",
    "- Speech level: 65 dB RMS\n",
    "- SNR: \n",
    "    - inf, or\n",
    "    - high: 16 dB SNR, or\n",
    "    - medium: 6 dB SNR, or\n",
    "    - low: 0 dB SNR\n",
    "- Noise reduction\n",
    "    - None, or\n",
    "    - LogMMSE, 24dB maximum attenuation\n",
    "- WDRC\n",
    "    - Attack: 5ms\n",
    "    - Release: 50ms (fast), 2000ms (slow)\n",
    "    - Ratio: 3:1\n",
    "    - Threshold: 45dB \n",
    "    - #Channels: 7\n",
    "\n",
    "\n"
   ]
  },
  {
   "cell_type": "code",
   "execution_count": 25,
   "id": "80f7b6ef-feb9-48a6-8ffb-09b6cd78b2bd",
   "metadata": {},
   "outputs": [],
   "source": [
    "output = markdown.markdown('''\n",
    "### Co-located, bilateral linked processing\n",
    "- **Noise**:\n",
    "    - Stationary noise (ICRA01), or\n",
    "    - Modulated noise (ICRA06)\n",
    "- **Rooms:** \n",
    "    - Anechoic (Surrey Anechoic), or\n",
    "    - Reverberant (Surrey Room D)\n",
    "- **Speech:** \n",
    "    - source: TIMIT\n",
    "    - level: 65 dB RMS\n",
    "- **SNR: **\n",
    "    - inf, or\n",
    "    - high: 16 dB SNR, or\n",
    "    - medium: 6 dB SNR, or\n",
    "    - low: 0 dB SNR\n",
    "- **Noise reduction**\n",
    "    - None, or\n",
    "    - LogMMSE, 24dB maximum attenuation\n",
    "- **WDRC**\n",
    "    - Attack: 5ms\n",
    "    - Release: 50ms (fast), 2000ms (slow)\n",
    "    - Ratio: 3:1\n",
    "    - Threshold: 45dB \n",
    "    - number of channels: 7\n",
    "    - Scene-aware: Adaptively changes release time constant based on foreground detection\n",
    "    - *Ideal* WDRC: Applies fast acting compression on the foreground, and slow-acting compression on the background before mixing. When NR is activated, the background is attenuated by 10dB.\n",
    "''')\n",
    "\n"
   ]
  },
  {
   "cell_type": "code",
   "execution_count": 26,
   "id": "c7da757e-005d-4a09-837c-62ba021bcf24",
   "metadata": {},
   "outputs": [],
   "source": [
    "f = open(\"docs/demo_page1.html\",\"w\")\n",
    "\n",
    "f.write(\"<!DOCTYPE html>\")\n",
    "f.write(\"<html>\")\n",
    "f.write('<body style=\"font-family: sans-serif\">')\n",
    "f.write('<br>')\n",
    "f.write('<a href=\"index.html\">Back</a>')\n",
    "f.write('<br>')\n",
    "\n",
    "f.write(output)\n",
    "\n",
    "f.write(\n",
    "    '<table class = \"center\"><tr>{}</tr></table>'.format(\n",
    "       '</tr><tr>'.join(\n",
    "           '<td>{}</td>'.format('</td><td>'.join(str(_) for _ in row)) for row in data)\n",
    "       ))\n",
    "\n",
    "f.write(\"</body>\")\n",
    "f.write(\"</html>\")\n",
    "\n",
    "f.close()"
   ]
  },
  {
   "cell_type": "code",
   "execution_count": 62,
   "id": "444c5b9a",
   "metadata": {
    "tags": []
   },
   "outputs": [
    {
     "data": {
      "text/html": [
       "<table class = \"center\"><tr><td>Scene</td><td>Linear gain</td><td>Fast acting WDRC</td><td>Slow acting WDRC</td><td>Scene-aware WDRC</td></tr><tr><td>anechoic-NOISE_Stationary-SNR_inf-NR_None</td><td><audio src=\"assets/anechoic-NOISE_Stationary-SNR_inf-NR_nr_off-wdrc_lin.wav\"  controls style=\"width: 250px\">'</audio></td><td><audio src=\"assets/anechoic-NOISE_Stationary-SNR_inf-NR_nr_off-wdrc_fast.wav\"  controls style=\"width: 250px\">'</audio></td><td><audio src=\"assets/anechoic-NOISE_Stationary-SNR_inf-NR_nr_off-wdrc_slow.wav\"  controls style=\"width: 250px\">'</audio></td><td><audio src=\"assets/anechoic-NOISE_Stationary-SNR_inf-NR_nr_off-wdrc_aware.wav\"  controls style=\"width: 250px\">'</audio></td></tr><tr><td>anechoic-NOISE_Stationary-SNR_high-NR_None</td><td><audio src=\"assets/anechoic-NOISE_Stationary-SNR_high-NR_nr_off-wdrc_lin.wav\"  controls style=\"width: 250px\">'</audio></td><td><audio src=\"assets/anechoic-NOISE_Stationary-SNR_high-NR_nr_off-wdrc_fast.wav\"  controls style=\"width: 250px\">'</audio></td><td><audio src=\"assets/anechoic-NOISE_Stationary-SNR_high-NR_nr_off-wdrc_slow.wav\"  controls style=\"width: 250px\">'</audio></td><td><audio src=\"assets/anechoic-NOISE_Stationary-SNR_high-NR_nr_off-wdrc_aware.wav\"  controls style=\"width: 250px\">'</audio></td></tr><tr><td>anechoic-NOISE_Stationary-SNR_medium-NR_None</td><td><audio src=\"assets/anechoic-NOISE_Stationary-SNR_medium-NR_nr_off-wdrc_lin.wav\"  controls style=\"width: 250px\">'</audio></td><td><audio src=\"assets/anechoic-NOISE_Stationary-SNR_medium-NR_nr_off-wdrc_fast.wav\"  controls style=\"width: 250px\">'</audio></td><td><audio src=\"assets/anechoic-NOISE_Stationary-SNR_medium-NR_nr_off-wdrc_slow.wav\"  controls style=\"width: 250px\">'</audio></td><td><audio src=\"assets/anechoic-NOISE_Stationary-SNR_medium-NR_nr_off-wdrc_aware.wav\"  controls style=\"width: 250px\">'</audio></td></tr><tr><td>anechoic-NOISE_Stationary-SNR_low-NR_None</td><td><audio src=\"assets/anechoic-NOISE_Stationary-SNR_low-NR_nr_off-wdrc_lin.wav\"  controls style=\"width: 250px\">'</audio></td><td><audio src=\"assets/anechoic-NOISE_Stationary-SNR_low-NR_nr_off-wdrc_fast.wav\"  controls style=\"width: 250px\">'</audio></td><td><audio src=\"assets/anechoic-NOISE_Stationary-SNR_low-NR_nr_off-wdrc_slow.wav\"  controls style=\"width: 250px\">'</audio></td><td><audio src=\"assets/anechoic-NOISE_Stationary-SNR_low-NR_nr_off-wdrc_aware.wav\"  controls style=\"width: 250px\">'</audio></td></tr><tr><td>reverberant-NOISE_Stationary-SNR_inf-NR_None</td><td><audio src=\"assets/reverberant-NOISE_Stationary-SNR_inf-NR_nr_off-wdrc_lin.wav\"  controls style=\"width: 250px\">'</audio></td><td><audio src=\"assets/reverberant-NOISE_Stationary-SNR_inf-NR_nr_off-wdrc_fast.wav\"  controls style=\"width: 250px\">'</audio></td><td><audio src=\"assets/reverberant-NOISE_Stationary-SNR_inf-NR_nr_off-wdrc_slow.wav\"  controls style=\"width: 250px\">'</audio></td><td><audio src=\"assets/reverberant-NOISE_Stationary-SNR_inf-NR_nr_off-wdrc_aware.wav\"  controls style=\"width: 250px\">'</audio></td></tr><tr><td>reverberant-NOISE_Stationary-SNR_high-NR_None</td><td><audio src=\"assets/reverberant-NOISE_Stationary-SNR_high-NR_nr_off-wdrc_lin.wav\"  controls style=\"width: 250px\">'</audio></td><td><audio src=\"assets/reverberant-NOISE_Stationary-SNR_high-NR_nr_off-wdrc_fast.wav\"  controls style=\"width: 250px\">'</audio></td><td><audio src=\"assets/reverberant-NOISE_Stationary-SNR_high-NR_nr_off-wdrc_slow.wav\"  controls style=\"width: 250px\">'</audio></td><td><audio src=\"assets/reverberant-NOISE_Stationary-SNR_high-NR_nr_off-wdrc_aware.wav\"  controls style=\"width: 250px\">'</audio></td></tr><tr><td>reverberant-NOISE_Stationary-SNR_medium-NR_None</td><td><audio src=\"assets/reverberant-NOISE_Stationary-SNR_medium-NR_nr_off-wdrc_lin.wav\"  controls style=\"width: 250px\">'</audio></td><td><audio src=\"assets/reverberant-NOISE_Stationary-SNR_medium-NR_nr_off-wdrc_fast.wav\"  controls style=\"width: 250px\">'</audio></td><td><audio src=\"assets/reverberant-NOISE_Stationary-SNR_medium-NR_nr_off-wdrc_slow.wav\"  controls style=\"width: 250px\">'</audio></td><td><audio src=\"assets/reverberant-NOISE_Stationary-SNR_medium-NR_nr_off-wdrc_aware.wav\"  controls style=\"width: 250px\">'</audio></td></tr><tr><td>reverberant-NOISE_Stationary-SNR_low-NR_None</td><td><audio src=\"assets/reverberant-NOISE_Stationary-SNR_low-NR_nr_off-wdrc_lin.wav\"  controls style=\"width: 250px\">'</audio></td><td><audio src=\"assets/reverberant-NOISE_Stationary-SNR_low-NR_nr_off-wdrc_fast.wav\"  controls style=\"width: 250px\">'</audio></td><td><audio src=\"assets/reverberant-NOISE_Stationary-SNR_low-NR_nr_off-wdrc_slow.wav\"  controls style=\"width: 250px\">'</audio></td><td><audio src=\"assets/reverberant-NOISE_Stationary-SNR_low-NR_nr_off-wdrc_aware.wav\"  controls style=\"width: 250px\">'</audio></td></tr><tr><td>--</td><td>--</td><td>--</td><td>--</td><td>--</td></tr><tr><td>anechoic-NOISE_Stationary-SNR_inf-NR_Moderate</td><td><audio src=\"assets/anechoic-NOISE_Stationary-SNR_inf-NR_nr_on-wdrc_lin.wav\"  controls style=\"width: 250px\">'</audio></td><td><audio src=\"assets/anechoic-NOISE_Stationary-SNR_inf-NR_nr_on-wdrc_fast.wav\"  controls style=\"width: 250px\">'</audio></td><td><audio src=\"assets/anechoic-NOISE_Stationary-SNR_inf-NR_nr_on-wdrc_slow.wav\"  controls style=\"width: 250px\">'</audio></td><td><audio src=\"assets/anechoic-NOISE_Stationary-SNR_inf-NR_nr_on-wdrc_aware.wav\"  controls style=\"width: 250px\">'</audio></td></tr><tr><td>anechoic-NOISE_Stationary-SNR_high-NR_Moderate</td><td><audio src=\"assets/anechoic-NOISE_Stationary-SNR_high-NR_nr_on-wdrc_lin.wav\"  controls style=\"width: 250px\">'</audio></td><td><audio src=\"assets/anechoic-NOISE_Stationary-SNR_high-NR_nr_on-wdrc_fast.wav\"  controls style=\"width: 250px\">'</audio></td><td><audio src=\"assets/anechoic-NOISE_Stationary-SNR_high-NR_nr_on-wdrc_slow.wav\"  controls style=\"width: 250px\">'</audio></td><td><audio src=\"assets/anechoic-NOISE_Stationary-SNR_high-NR_nr_on-wdrc_aware.wav\"  controls style=\"width: 250px\">'</audio></td></tr><tr><td>anechoic-NOISE_Stationary-SNR_medium-NR_Moderate</td><td><audio src=\"assets/anechoic-NOISE_Stationary-SNR_medium-NR_nr_on-wdrc_lin.wav\"  controls style=\"width: 250px\">'</audio></td><td><audio src=\"assets/anechoic-NOISE_Stationary-SNR_medium-NR_nr_on-wdrc_fast.wav\"  controls style=\"width: 250px\">'</audio></td><td><audio src=\"assets/anechoic-NOISE_Stationary-SNR_medium-NR_nr_on-wdrc_slow.wav\"  controls style=\"width: 250px\">'</audio></td><td><audio src=\"assets/anechoic-NOISE_Stationary-SNR_medium-NR_nr_on-wdrc_aware.wav\"  controls style=\"width: 250px\">'</audio></td></tr><tr><td>anechoic-NOISE_Stationary-SNR_low-NR_Moderate</td><td><audio src=\"assets/anechoic-NOISE_Stationary-SNR_low-NR_nr_on-wdrc_lin.wav\"  controls style=\"width: 250px\">'</audio></td><td><audio src=\"assets/anechoic-NOISE_Stationary-SNR_low-NR_nr_on-wdrc_fast.wav\"  controls style=\"width: 250px\">'</audio></td><td><audio src=\"assets/anechoic-NOISE_Stationary-SNR_low-NR_nr_on-wdrc_slow.wav\"  controls style=\"width: 250px\">'</audio></td><td><audio src=\"assets/anechoic-NOISE_Stationary-SNR_low-NR_nr_on-wdrc_aware.wav\"  controls style=\"width: 250px\">'</audio></td></tr><tr><td>reverberant-NOISE_Stationary-SNR_inf-NR_Moderate</td><td><audio src=\"assets/reverberant-NOISE_Stationary-SNR_inf-NR_nr_on-wdrc_lin.wav\"  controls style=\"width: 250px\">'</audio></td><td><audio src=\"assets/reverberant-NOISE_Stationary-SNR_inf-NR_nr_on-wdrc_fast.wav\"  controls style=\"width: 250px\">'</audio></td><td><audio src=\"assets/reverberant-NOISE_Stationary-SNR_inf-NR_nr_on-wdrc_slow.wav\"  controls style=\"width: 250px\">'</audio></td><td><audio src=\"assets/reverberant-NOISE_Stationary-SNR_inf-NR_nr_on-wdrc_aware.wav\"  controls style=\"width: 250px\">'</audio></td></tr><tr><td>reverberant-NOISE_Stationary-SNR_high-NR_Moderate</td><td><audio src=\"assets/reverberant-NOISE_Stationary-SNR_high-NR_nr_on-wdrc_lin.wav\"  controls style=\"width: 250px\">'</audio></td><td><audio src=\"assets/reverberant-NOISE_Stationary-SNR_high-NR_nr_on-wdrc_fast.wav\"  controls style=\"width: 250px\">'</audio></td><td><audio src=\"assets/reverberant-NOISE_Stationary-SNR_high-NR_nr_on-wdrc_slow.wav\"  controls style=\"width: 250px\">'</audio></td><td><audio src=\"assets/reverberant-NOISE_Stationary-SNR_high-NR_nr_on-wdrc_aware.wav\"  controls style=\"width: 250px\">'</audio></td></tr><tr><td>reverberant-NOISE_Stationary-SNR_medium-NR_Moderate</td><td><audio src=\"assets/reverberant-NOISE_Stationary-SNR_medium-NR_nr_on-wdrc_lin.wav\"  controls style=\"width: 250px\">'</audio></td><td><audio src=\"assets/reverberant-NOISE_Stationary-SNR_medium-NR_nr_on-wdrc_fast.wav\"  controls style=\"width: 250px\">'</audio></td><td><audio src=\"assets/reverberant-NOISE_Stationary-SNR_medium-NR_nr_on-wdrc_slow.wav\"  controls style=\"width: 250px\">'</audio></td><td><audio src=\"assets/reverberant-NOISE_Stationary-SNR_medium-NR_nr_on-wdrc_aware.wav\"  controls style=\"width: 250px\">'</audio></td></tr><tr><td>reverberant-NOISE_Stationary-SNR_low-NR_Moderate</td><td><audio src=\"assets/reverberant-NOISE_Stationary-SNR_low-NR_nr_on-wdrc_lin.wav\"  controls style=\"width: 250px\">'</audio></td><td><audio src=\"assets/reverberant-NOISE_Stationary-SNR_low-NR_nr_on-wdrc_fast.wav\"  controls style=\"width: 250px\">'</audio></td><td><audio src=\"assets/reverberant-NOISE_Stationary-SNR_low-NR_nr_on-wdrc_slow.wav\"  controls style=\"width: 250px\">'</audio></td><td><audio src=\"assets/reverberant-NOISE_Stationary-SNR_low-NR_nr_on-wdrc_aware.wav\"  controls style=\"width: 250px\">'</audio></td></tr><tr><td>--</td><td>--</td><td>--</td><td>--</td><td>--</td></tr><tr><td>anechoic-NOISE_Modulated-SNR_inf-NR_None</td><td><audio src=\"assets/anechoic-NOISE_Modulated-SNR_inf-NR_nr_off-wdrc_lin.wav\"  controls style=\"width: 250px\">'</audio></td><td><audio src=\"assets/anechoic-NOISE_Modulated-SNR_inf-NR_nr_off-wdrc_fast.wav\"  controls style=\"width: 250px\">'</audio></td><td><audio src=\"assets/anechoic-NOISE_Modulated-SNR_inf-NR_nr_off-wdrc_slow.wav\"  controls style=\"width: 250px\">'</audio></td><td><audio src=\"assets/anechoic-NOISE_Modulated-SNR_inf-NR_nr_off-wdrc_aware.wav\"  controls style=\"width: 250px\">'</audio></td></tr><tr><td>anechoic-NOISE_Modulated-SNR_high-NR_None</td><td><audio src=\"assets/anechoic-NOISE_Modulated-SNR_high-NR_nr_off-wdrc_lin.wav\"  controls style=\"width: 250px\">'</audio></td><td><audio src=\"assets/anechoic-NOISE_Modulated-SNR_high-NR_nr_off-wdrc_fast.wav\"  controls style=\"width: 250px\">'</audio></td><td><audio src=\"assets/anechoic-NOISE_Modulated-SNR_high-NR_nr_off-wdrc_slow.wav\"  controls style=\"width: 250px\">'</audio></td><td><audio src=\"assets/anechoic-NOISE_Modulated-SNR_high-NR_nr_off-wdrc_aware.wav\"  controls style=\"width: 250px\">'</audio></td></tr><tr><td>anechoic-NOISE_Modulated-SNR_medium-NR_None</td><td><audio src=\"assets/anechoic-NOISE_Modulated-SNR_medium-NR_nr_off-wdrc_lin.wav\"  controls style=\"width: 250px\">'</audio></td><td><audio src=\"assets/anechoic-NOISE_Modulated-SNR_medium-NR_nr_off-wdrc_fast.wav\"  controls style=\"width: 250px\">'</audio></td><td><audio src=\"assets/anechoic-NOISE_Modulated-SNR_medium-NR_nr_off-wdrc_slow.wav\"  controls style=\"width: 250px\">'</audio></td><td><audio src=\"assets/anechoic-NOISE_Modulated-SNR_medium-NR_nr_off-wdrc_aware.wav\"  controls style=\"width: 250px\">'</audio></td></tr><tr><td>anechoic-NOISE_Modulated-SNR_low-NR_None</td><td><audio src=\"assets/anechoic-NOISE_Modulated-SNR_low-NR_nr_off-wdrc_lin.wav\"  controls style=\"width: 250px\">'</audio></td><td><audio src=\"assets/anechoic-NOISE_Modulated-SNR_low-NR_nr_off-wdrc_fast.wav\"  controls style=\"width: 250px\">'</audio></td><td><audio src=\"assets/anechoic-NOISE_Modulated-SNR_low-NR_nr_off-wdrc_slow.wav\"  controls style=\"width: 250px\">'</audio></td><td><audio src=\"assets/anechoic-NOISE_Modulated-SNR_low-NR_nr_off-wdrc_aware.wav\"  controls style=\"width: 250px\">'</audio></td></tr><tr><td>reverberant-NOISE_Modulated-SNR_inf-NR_None</td><td><audio src=\"assets/reverberant-NOISE_Modulated-SNR_inf-NR_nr_off-wdrc_lin.wav\"  controls style=\"width: 250px\">'</audio></td><td><audio src=\"assets/reverberant-NOISE_Modulated-SNR_inf-NR_nr_off-wdrc_fast.wav\"  controls style=\"width: 250px\">'</audio></td><td><audio src=\"assets/reverberant-NOISE_Modulated-SNR_inf-NR_nr_off-wdrc_slow.wav\"  controls style=\"width: 250px\">'</audio></td><td><audio src=\"assets/reverberant-NOISE_Modulated-SNR_inf-NR_nr_off-wdrc_aware.wav\"  controls style=\"width: 250px\">'</audio></td></tr><tr><td>reverberant-NOISE_Modulated-SNR_high-NR_None</td><td><audio src=\"assets/reverberant-NOISE_Modulated-SNR_high-NR_nr_off-wdrc_lin.wav\"  controls style=\"width: 250px\">'</audio></td><td><audio src=\"assets/reverberant-NOISE_Modulated-SNR_high-NR_nr_off-wdrc_fast.wav\"  controls style=\"width: 250px\">'</audio></td><td><audio src=\"assets/reverberant-NOISE_Modulated-SNR_high-NR_nr_off-wdrc_slow.wav\"  controls style=\"width: 250px\">'</audio></td><td><audio src=\"assets/reverberant-NOISE_Modulated-SNR_high-NR_nr_off-wdrc_aware.wav\"  controls style=\"width: 250px\">'</audio></td></tr><tr><td>reverberant-NOISE_Modulated-SNR_medium-NR_None</td><td><audio src=\"assets/reverberant-NOISE_Modulated-SNR_medium-NR_nr_off-wdrc_lin.wav\"  controls style=\"width: 250px\">'</audio></td><td><audio src=\"assets/reverberant-NOISE_Modulated-SNR_medium-NR_nr_off-wdrc_fast.wav\"  controls style=\"width: 250px\">'</audio></td><td><audio src=\"assets/reverberant-NOISE_Modulated-SNR_medium-NR_nr_off-wdrc_slow.wav\"  controls style=\"width: 250px\">'</audio></td><td><audio src=\"assets/reverberant-NOISE_Modulated-SNR_medium-NR_nr_off-wdrc_aware.wav\"  controls style=\"width: 250px\">'</audio></td></tr><tr><td>reverberant-NOISE_Modulated-SNR_low-NR_None</td><td><audio src=\"assets/reverberant-NOISE_Modulated-SNR_low-NR_nr_off-wdrc_lin.wav\"  controls style=\"width: 250px\">'</audio></td><td><audio src=\"assets/reverberant-NOISE_Modulated-SNR_low-NR_nr_off-wdrc_fast.wav\"  controls style=\"width: 250px\">'</audio></td><td><audio src=\"assets/reverberant-NOISE_Modulated-SNR_low-NR_nr_off-wdrc_slow.wav\"  controls style=\"width: 250px\">'</audio></td><td><audio src=\"assets/reverberant-NOISE_Modulated-SNR_low-NR_nr_off-wdrc_aware.wav\"  controls style=\"width: 250px\">'</audio></td></tr><tr><td>--</td><td>--</td><td>--</td><td>--</td><td>--</td></tr><tr><td>anechoic-NOISE_Modulated-SNR_inf-NR_Moderate</td><td><audio src=\"assets/anechoic-NOISE_Modulated-SNR_inf-NR_nr_on-wdrc_lin.wav\"  controls style=\"width: 250px\">'</audio></td><td><audio src=\"assets/anechoic-NOISE_Modulated-SNR_inf-NR_nr_on-wdrc_fast.wav\"  controls style=\"width: 250px\">'</audio></td><td><audio src=\"assets/anechoic-NOISE_Modulated-SNR_inf-NR_nr_on-wdrc_slow.wav\"  controls style=\"width: 250px\">'</audio></td><td><audio src=\"assets/anechoic-NOISE_Modulated-SNR_inf-NR_nr_on-wdrc_aware.wav\"  controls style=\"width: 250px\">'</audio></td></tr><tr><td>anechoic-NOISE_Modulated-SNR_high-NR_Moderate</td><td><audio src=\"assets/anechoic-NOISE_Modulated-SNR_high-NR_nr_on-wdrc_lin.wav\"  controls style=\"width: 250px\">'</audio></td><td><audio src=\"assets/anechoic-NOISE_Modulated-SNR_high-NR_nr_on-wdrc_fast.wav\"  controls style=\"width: 250px\">'</audio></td><td><audio src=\"assets/anechoic-NOISE_Modulated-SNR_high-NR_nr_on-wdrc_slow.wav\"  controls style=\"width: 250px\">'</audio></td><td><audio src=\"assets/anechoic-NOISE_Modulated-SNR_high-NR_nr_on-wdrc_aware.wav\"  controls style=\"width: 250px\">'</audio></td></tr><tr><td>anechoic-NOISE_Modulated-SNR_medium-NR_Moderate</td><td><audio src=\"assets/anechoic-NOISE_Modulated-SNR_medium-NR_nr_on-wdrc_lin.wav\"  controls style=\"width: 250px\">'</audio></td><td><audio src=\"assets/anechoic-NOISE_Modulated-SNR_medium-NR_nr_on-wdrc_fast.wav\"  controls style=\"width: 250px\">'</audio></td><td><audio src=\"assets/anechoic-NOISE_Modulated-SNR_medium-NR_nr_on-wdrc_slow.wav\"  controls style=\"width: 250px\">'</audio></td><td><audio src=\"assets/anechoic-NOISE_Modulated-SNR_medium-NR_nr_on-wdrc_aware.wav\"  controls style=\"width: 250px\">'</audio></td></tr><tr><td>anechoic-NOISE_Modulated-SNR_low-NR_Moderate</td><td><audio src=\"assets/anechoic-NOISE_Modulated-SNR_low-NR_nr_on-wdrc_lin.wav\"  controls style=\"width: 250px\">'</audio></td><td><audio src=\"assets/anechoic-NOISE_Modulated-SNR_low-NR_nr_on-wdrc_fast.wav\"  controls style=\"width: 250px\">'</audio></td><td><audio src=\"assets/anechoic-NOISE_Modulated-SNR_low-NR_nr_on-wdrc_slow.wav\"  controls style=\"width: 250px\">'</audio></td><td><audio src=\"assets/anechoic-NOISE_Modulated-SNR_low-NR_nr_on-wdrc_aware.wav\"  controls style=\"width: 250px\">'</audio></td></tr><tr><td>reverberant-NOISE_Modulated-SNR_inf-NR_Moderate</td><td><audio src=\"assets/reverberant-NOISE_Modulated-SNR_inf-NR_nr_on-wdrc_lin.wav\"  controls style=\"width: 250px\">'</audio></td><td><audio src=\"assets/reverberant-NOISE_Modulated-SNR_inf-NR_nr_on-wdrc_fast.wav\"  controls style=\"width: 250px\">'</audio></td><td><audio src=\"assets/reverberant-NOISE_Modulated-SNR_inf-NR_nr_on-wdrc_slow.wav\"  controls style=\"width: 250px\">'</audio></td><td><audio src=\"assets/reverberant-NOISE_Modulated-SNR_inf-NR_nr_on-wdrc_aware.wav\"  controls style=\"width: 250px\">'</audio></td></tr><tr><td>reverberant-NOISE_Modulated-SNR_high-NR_Moderate</td><td><audio src=\"assets/reverberant-NOISE_Modulated-SNR_high-NR_nr_on-wdrc_lin.wav\"  controls style=\"width: 250px\">'</audio></td><td><audio src=\"assets/reverberant-NOISE_Modulated-SNR_high-NR_nr_on-wdrc_fast.wav\"  controls style=\"width: 250px\">'</audio></td><td><audio src=\"assets/reverberant-NOISE_Modulated-SNR_high-NR_nr_on-wdrc_slow.wav\"  controls style=\"width: 250px\">'</audio></td><td><audio src=\"assets/reverberant-NOISE_Modulated-SNR_high-NR_nr_on-wdrc_aware.wav\"  controls style=\"width: 250px\">'</audio></td></tr><tr><td>reverberant-NOISE_Modulated-SNR_medium-NR_Moderate</td><td><audio src=\"assets/reverberant-NOISE_Modulated-SNR_medium-NR_nr_on-wdrc_lin.wav\"  controls style=\"width: 250px\">'</audio></td><td><audio src=\"assets/reverberant-NOISE_Modulated-SNR_medium-NR_nr_on-wdrc_fast.wav\"  controls style=\"width: 250px\">'</audio></td><td><audio src=\"assets/reverberant-NOISE_Modulated-SNR_medium-NR_nr_on-wdrc_slow.wav\"  controls style=\"width: 250px\">'</audio></td><td><audio src=\"assets/reverberant-NOISE_Modulated-SNR_medium-NR_nr_on-wdrc_aware.wav\"  controls style=\"width: 250px\">'</audio></td></tr><tr><td>reverberant-NOISE_Modulated-SNR_low-NR_Moderate</td><td><audio src=\"assets/reverberant-NOISE_Modulated-SNR_low-NR_nr_on-wdrc_lin.wav\"  controls style=\"width: 250px\">'</audio></td><td><audio src=\"assets/reverberant-NOISE_Modulated-SNR_low-NR_nr_on-wdrc_fast.wav\"  controls style=\"width: 250px\">'</audio></td><td><audio src=\"assets/reverberant-NOISE_Modulated-SNR_low-NR_nr_on-wdrc_slow.wav\"  controls style=\"width: 250px\">'</audio></td><td><audio src=\"assets/reverberant-NOISE_Modulated-SNR_low-NR_nr_on-wdrc_aware.wav\"  controls style=\"width: 250px\">'</audio></td></tr><tr><td>--</td><td>--</td><td>--</td><td>--</td><td>--</td></tr></table>"
      ],
      "text/plain": [
       "<IPython.core.display.HTML object>"
      ]
     },
     "metadata": {},
     "output_type": "display_data"
    }
   ],
   "source": [
    "display(HTML(\n",
    "   '<table class = \"center\"><tr>{}</tr></table>'.format(\n",
    "       '</tr><tr>'.join(\n",
    "           '<td>{}</td>'.format('</td><td>'.join(str(_) for _ in row)) for row in data)\n",
    "       )\n",
    "))"
   ]
  },
  {
   "cell_type": "code",
   "execution_count": 24,
   "id": "c0b8f8d2",
   "metadata": {},
   "outputs": [],
   "source": []
  },
  {
   "cell_type": "code",
   "execution_count": 61,
   "id": "1c5cb1fc-d195-4603-af87-64ffe8224825",
   "metadata": {},
   "outputs": [],
   "source": [
    "import markdown\n",
    "output = markdown.markdown('''\n",
    "### Properties\n",
    "- Stationary noise (ICRA01)\n",
    "- Rooms: \n",
    "    - Anechoic (Surrey Anechoic), or\n",
    "    - Reverberant (Surrey Room D)\n",
    "    - Speech: TIMIT\n",
    "- Speech level: 65 dB RMS\n",
    "- SNR: \n",
    "    - inf, or\n",
    "    - high: 16 dB SNR, or\n",
    "    - medium: 6 dB SNR, or\n",
    "    - low: 0 dB SNR\n",
    "- Noise reduction\n",
    "    - None, or\n",
    "    - LogMMSE, 24dB maximum attenuation\n",
    "- WDRC\n",
    "    - Attack: 5ms\n",
    "    - Release: 50ms (fast), 2000ms (slow)\n",
    "    - Ratio: 3:1\n",
    "    - Threshold: 45dB \n",
    "    - #Channels: 7\n",
    "''')\n"
   ]
  },
  {
   "cell_type": "code",
   "execution_count": 62,
   "id": "2d53075c-d5e9-4a65-b253-5f36b3ec69e1",
   "metadata": {},
   "outputs": [
    {
     "data": {
      "text/plain": [
       "'<h3>Properties</h3>\\n<ul>\\n<li>Stationary noise (ICRA01)</li>\\n<li>Rooms: <ul>\\n<li>Anechoic (Surrey Anechoic), or</li>\\n<li>Reverberant (Surrey Room D)</li>\\n<li>Speech: TIMIT</li>\\n</ul>\\n</li>\\n<li>Speech level: 65 dB RMS</li>\\n<li>SNR: <ul>\\n<li>inf, or</li>\\n<li>high: 16 dB SNR, or</li>\\n<li>medium: 6 dB SNR, or</li>\\n<li>low: 0 dB SNR</li>\\n</ul>\\n</li>\\n<li>Noise reduction<ul>\\n<li>None, or</li>\\n<li>LogMMSE, 24dB maximum attenuation</li>\\n</ul>\\n</li>\\n<li>WDRC<ul>\\n<li>Attack: 5ms</li>\\n<li>Release: 50ms (fast), 2000ms (slow)</li>\\n<li>Ratio: 3:1</li>\\n<li>Threshold: 45dB </li>\\n<li>\\n<h1>Channels: 7</h1>\\n</li>\\n</ul>\\n</li>\\n</ul>'"
      ]
     },
     "execution_count": 62,
     "metadata": {},
     "output_type": "execute_result"
    }
   ],
   "source": [
    "output"
   ]
  },
  {
   "cell_type": "code",
   "execution_count": 34,
   "id": "5aaa38e8-e125-498d-b264-81aa4110daf9",
   "metadata": {},
   "outputs": [
    {
     "name": "stdout",
     "output_type": "stream",
     "text": [
      "<pre><code>### Properties\n",
      "- Stationary noise (ICRA01)\n",
      "- Rooms: \n",
      "    - Anechoic (Surrey Anechoic), or\n",
      "    - Reverberant (Surrey Room D)\n",
      "- Speech: TIMIT\n",
      "- Speech level: 65 dB RMS\n",
      "- SNR: \n",
      "    - inf, or\n",
      "    - high: 16 dB SNR, or\n",
      "    - medium: 6 dB SNR, or\n",
      "    - low: 0 dB SNR\n",
      "- Noise reduction\n",
      "    - None, or\n",
      "    - LogMMSE, 24dB maximum attenuation\n",
      "- WDRC\n",
      "    - Attack: 5ms\n",
      "    - Release: 50ms (fast), 2000ms (slow)\n",
      "    - Ratio: 3:1\n",
      "    - Threshold: 45dB \n",
      "    - #Channels: 7\n",
      "</code></pre>\n"
     ]
    }
   ],
   "source": [
    "print(properties)"
   ]
  },
  {
   "cell_type": "code",
   "execution_count": null,
   "id": "4011776b-64c7-407e-894d-249529c9fb13",
   "metadata": {},
   "outputs": [],
   "source": []
  }
 ],
 "metadata": {
  "kernelspec": {
   "display_name": "Python 3 (ipykernel)",
   "language": "python",
   "name": "python3"
  },
  "language_info": {
   "codemirror_mode": {
    "name": "ipython",
    "version": 3
   },
   "file_extension": ".py",
   "mimetype": "text/x-python",
   "name": "python",
   "nbconvert_exporter": "python",
   "pygments_lexer": "ipython3",
   "version": "3.9.5"
  },
  "vscode": {
   "interpreter": {
    "hash": "3d597f4c481aa0f25dceb95d2a0067e73c0966dcbd003d741d821a7208527ecf"
   }
  }
 },
 "nbformat": 4,
 "nbformat_minor": 5
}
