{
 "cells": [
  {
   "cell_type": "code",
   "execution_count": 17,
   "id": "dc7cbba8-ea26-4af5-90bc-2248395faf7d",
   "metadata": {},
   "outputs": [],
   "source": [
    "import json\n",
    "import numpy as np\n",
    "import matplotlib.pyplot as plt\n",
    "from components_ import scene_creator, processor_creator\n",
    "from lyd import utils, processing\n",
    "from scipy.io import wavfile\n",
    "\n",
    "def audio_entry(name):\n",
    "    string = f'''<audio width=\"\" height=\" \" src=\"docs/assets/{name}\"  controls>'</audio>'''\n",
    "    return string\n",
    "from IPython.display import HTML, display"
   ]
  },
  {
   "cell_type": "markdown",
   "id": "239b0a54",
   "metadata": {},
   "source": [
    "# Generate data"
   ]
  },
  {
   "cell_type": "code",
   "execution_count": 18,
   "id": "4960ac67-10fc-4128-a0f4-9da8502d9c80",
   "metadata": {
    "tags": []
   },
   "outputs": [
    {
     "name": "stdout",
     "output_type": "stream",
     "text": [
      "100.0\n",
      "45.0\n",
      "45.0\n",
      "45.0\n"
     ]
    }
   ],
   "source": [
    "# Initialize objects\n",
    "stimuli = scene_creator(2)\n",
    "pL = processor_creator(fs=16e3)\n",
    "pF = processor_creator(fs=16e3)\n",
    "pS = processor_creator(fs=16e3)\n",
    "pA = processor_creator(fs=16e3)\n",
    "\n",
    "# Level adjuster\n",
    "level_adjuster = processing.AdjustLevel(-23)\n",
    "\n",
    "# Stimuli parameters\n",
    "stimuli.update_param('signal_level',65)\n",
    "stimuli.update_param('noise_type','Stationary')\n",
    "\n",
    "# Initialize processes\n",
    "pL.update_param('thr',100)\n",
    "pL.update_param('ratio',1)\n",
    "pL.update_param('wdrc','Fast Acting')\n",
    "\n",
    "pF.update_param('thr',45)\n",
    "pF.update_param('ratio',3)\n",
    "pF.update_param('wdrc','Fast Acting')\n",
    "\n",
    "pS.update_param('thr',45)\n",
    "pS.update_param('ratio',3)\n",
    "pS.update_param('wdrc','Slow Acting')\n",
    "\n",
    "pA.update_param('thr',45)\n",
    "pA.update_param('ratio',3)\n",
    "pA.update_param('wdrc','Aware')\n",
    "\n",
    "# Create dictionaries to iterate through\n",
    "wdrc_dict = {\n",
    "    'lin':pL,\n",
    "    'fast':pF,\n",
    "    'slow':pS,\n",
    "    'aware':pA\n",
    "}\n",
    "rooms = {\n",
    "    'Anechoic' : 'Anechoic',\n",
    "    'Reverberant' : 'D'\n",
    "}\n",
    "snrs = {\n",
    "    'inf' : 300,\n",
    "    'high' : 16,\n",
    "    'medium' : 6,\n",
    "    'low' : 0\n",
    "}\n",
    "nrs = {\n",
    "    'nr_off' : \"None\",\n",
    "    'nr_on' : \"Moderate\"\n",
    "}\n",
    "\n",
    "\n",
    "\n",
    "\n",
    "# Initialize table\n",
    "data = []\n",
    "data.append(['Scene','Clean','Fast','Slow','Aware'])\n",
    "\n",
    "# Iterate over noise reduction\n",
    "for nr_key, nr_val in nrs.items():\n",
    "    pL.update_param('nr',nr_val)\n",
    "    pF.update_param('nr',nr_val)\n",
    "    pS.update_param('nr',nr_val)\n",
    "    pA.update_param('nr',nr_val)\n",
    "\n",
    "    # Iterate over rooms\n",
    "    for room_key, room_val in rooms.items():\n",
    "        stimuli.update_param('room',room_val)\n",
    "        \n",
    "        # Iterate over snr\n",
    "        for snr_key, snr_val in snrs.items():\n",
    "            stimuli.update_param('snr',snr_val)\n",
    "            \n",
    "            # Generate stimuli\n",
    "            stimuli.gen_scene()\n",
    "            f,b,mix = stimuli.stim.transform()\n",
    "\n",
    "            # Save input\n",
    "            mix_adjusted = level_adjuster(mix)\n",
    "            name = f\"{room_key.lower()}-{snr_key}_snr.wav\"\n",
    "        \n",
    "            \n",
    "            row = []\n",
    "            row.append(f\"{room_key.lower()}-{snr_key}_snr-nr_{nr_val}\")\n",
    "            #row.append(audio_entry(name))\n",
    "\n",
    "            # Iterate over compressors\n",
    "            for wdrc_key, wdrc_val in wdrc_dict.items():\n",
    "                wdrc_val.gen_sys()\n",
    "                s = wdrc_val.s\n",
    "\n",
    "                xc = s.transform(mix,b)\n",
    "                xc_adjusted = level_adjuster(xc)[:,8000:]\n",
    "                name = f\"{room_key.lower()}-{snr_key}_snr-nr_{nr_key}-wdrc_{wdrc_key}.wav\"\n",
    "                wavfile.write(\"docs/assets/\"+name,16000,xc_adjusted.T.astype(np.float32))\n",
    "                row.append(audio_entry(name))\n",
    "\n",
    "            name = f\"{room_key.lower()}-{snr_key}_snr.wav\"\n",
    "            data.append(row)\n",
    "\n",
    "        \n"
   ]
  },
  {
   "cell_type": "markdown",
   "id": "89edaf66",
   "metadata": {},
   "source": [
    "# Audio \n",
    "\n",
    "### Properties\n",
    "- Stationary noise (ICRA01)\n",
    "- Rooms: \n",
    "    - Anechoic (Surrey Anechoic), or\n",
    "    - Reverberant (Surrey Room D)\n",
    "- Speech: TIMIT\n",
    "- Speech level: 65 dB RMS\n",
    "- SNR: \n",
    "    - inf, or\n",
    "    - high: 16 dB SNR, or\n",
    "    - medium: 6 dB SNR, or\n",
    "    - low: 0 dB SNR\n",
    "- Noise reduction\n",
    "    - None, or\n",
    "    - LogMMSE, 24dB maximum attenuation\n",
    "- WDRC\n",
    "    - Attack: 5ms\n",
    "    - Release: 50ms (fast), 2000ms (slow)\n",
    "    - Ratio: 3:1\n",
    "    - Threshold: 45dB \n",
    "    - #Channels: 7\n",
    "\n",
    "\n"
   ]
  },
  {
   "cell_type": "code",
   "execution_count": 19,
   "id": "444c5b9a",
   "metadata": {
    "tags": []
   },
   "outputs": [
    {
     "data": {
      "text/html": [
       "<table class = \"center\"><tr><td>Scene</td><td>Clean</td><td>Fast</td><td>Slow</td><td>Aware</td></tr><tr><td>anechoic-inf_snr-nr_None</td><td><audio width=\"\" height=\" \" src=\"docs/assets/anechoic-inf_snr-nr_nr_off-wdrc_lin.wav\"  controls>'</audio></td><td><audio width=\"\" height=\" \" src=\"docs/assets/anechoic-inf_snr-nr_nr_off-wdrc_fast.wav\"  controls>'</audio></td><td><audio width=\"\" height=\" \" src=\"docs/assets/anechoic-inf_snr-nr_nr_off-wdrc_slow.wav\"  controls>'</audio></td><td><audio width=\"\" height=\" \" src=\"docs/assets/anechoic-inf_snr-nr_nr_off-wdrc_aware.wav\"  controls>'</audio></td></tr><tr><td>anechoic-high_snr-nr_None</td><td><audio width=\"\" height=\" \" src=\"docs/assets/anechoic-high_snr-nr_nr_off-wdrc_lin.wav\"  controls>'</audio></td><td><audio width=\"\" height=\" \" src=\"docs/assets/anechoic-high_snr-nr_nr_off-wdrc_fast.wav\"  controls>'</audio></td><td><audio width=\"\" height=\" \" src=\"docs/assets/anechoic-high_snr-nr_nr_off-wdrc_slow.wav\"  controls>'</audio></td><td><audio width=\"\" height=\" \" src=\"docs/assets/anechoic-high_snr-nr_nr_off-wdrc_aware.wav\"  controls>'</audio></td></tr><tr><td>anechoic-medium_snr-nr_None</td><td><audio width=\"\" height=\" \" src=\"docs/assets/anechoic-medium_snr-nr_nr_off-wdrc_lin.wav\"  controls>'</audio></td><td><audio width=\"\" height=\" \" src=\"docs/assets/anechoic-medium_snr-nr_nr_off-wdrc_fast.wav\"  controls>'</audio></td><td><audio width=\"\" height=\" \" src=\"docs/assets/anechoic-medium_snr-nr_nr_off-wdrc_slow.wav\"  controls>'</audio></td><td><audio width=\"\" height=\" \" src=\"docs/assets/anechoic-medium_snr-nr_nr_off-wdrc_aware.wav\"  controls>'</audio></td></tr><tr><td>anechoic-low_snr-nr_None</td><td><audio width=\"\" height=\" \" src=\"docs/assets/anechoic-low_snr-nr_nr_off-wdrc_lin.wav\"  controls>'</audio></td><td><audio width=\"\" height=\" \" src=\"docs/assets/anechoic-low_snr-nr_nr_off-wdrc_fast.wav\"  controls>'</audio></td><td><audio width=\"\" height=\" \" src=\"docs/assets/anechoic-low_snr-nr_nr_off-wdrc_slow.wav\"  controls>'</audio></td><td><audio width=\"\" height=\" \" src=\"docs/assets/anechoic-low_snr-nr_nr_off-wdrc_aware.wav\"  controls>'</audio></td></tr><tr><td>reverberant-inf_snr-nr_None</td><td><audio width=\"\" height=\" \" src=\"docs/assets/reverberant-inf_snr-nr_nr_off-wdrc_lin.wav\"  controls>'</audio></td><td><audio width=\"\" height=\" \" src=\"docs/assets/reverberant-inf_snr-nr_nr_off-wdrc_fast.wav\"  controls>'</audio></td><td><audio width=\"\" height=\" \" src=\"docs/assets/reverberant-inf_snr-nr_nr_off-wdrc_slow.wav\"  controls>'</audio></td><td><audio width=\"\" height=\" \" src=\"docs/assets/reverberant-inf_snr-nr_nr_off-wdrc_aware.wav\"  controls>'</audio></td></tr><tr><td>reverberant-high_snr-nr_None</td><td><audio width=\"\" height=\" \" src=\"docs/assets/reverberant-high_snr-nr_nr_off-wdrc_lin.wav\"  controls>'</audio></td><td><audio width=\"\" height=\" \" src=\"docs/assets/reverberant-high_snr-nr_nr_off-wdrc_fast.wav\"  controls>'</audio></td><td><audio width=\"\" height=\" \" src=\"docs/assets/reverberant-high_snr-nr_nr_off-wdrc_slow.wav\"  controls>'</audio></td><td><audio width=\"\" height=\" \" src=\"docs/assets/reverberant-high_snr-nr_nr_off-wdrc_aware.wav\"  controls>'</audio></td></tr><tr><td>reverberant-medium_snr-nr_None</td><td><audio width=\"\" height=\" \" src=\"docs/assets/reverberant-medium_snr-nr_nr_off-wdrc_lin.wav\"  controls>'</audio></td><td><audio width=\"\" height=\" \" src=\"docs/assets/reverberant-medium_snr-nr_nr_off-wdrc_fast.wav\"  controls>'</audio></td><td><audio width=\"\" height=\" \" src=\"docs/assets/reverberant-medium_snr-nr_nr_off-wdrc_slow.wav\"  controls>'</audio></td><td><audio width=\"\" height=\" \" src=\"docs/assets/reverberant-medium_snr-nr_nr_off-wdrc_aware.wav\"  controls>'</audio></td></tr><tr><td>reverberant-low_snr-nr_None</td><td><audio width=\"\" height=\" \" src=\"docs/assets/reverberant-low_snr-nr_nr_off-wdrc_lin.wav\"  controls>'</audio></td><td><audio width=\"\" height=\" \" src=\"docs/assets/reverberant-low_snr-nr_nr_off-wdrc_fast.wav\"  controls>'</audio></td><td><audio width=\"\" height=\" \" src=\"docs/assets/reverberant-low_snr-nr_nr_off-wdrc_slow.wav\"  controls>'</audio></td><td><audio width=\"\" height=\" \" src=\"docs/assets/reverberant-low_snr-nr_nr_off-wdrc_aware.wav\"  controls>'</audio></td></tr><tr><td>anechoic-inf_snr-nr_Moderate</td><td><audio width=\"\" height=\" \" src=\"docs/assets/anechoic-inf_snr-nr_nr_on-wdrc_lin.wav\"  controls>'</audio></td><td><audio width=\"\" height=\" \" src=\"docs/assets/anechoic-inf_snr-nr_nr_on-wdrc_fast.wav\"  controls>'</audio></td><td><audio width=\"\" height=\" \" src=\"docs/assets/anechoic-inf_snr-nr_nr_on-wdrc_slow.wav\"  controls>'</audio></td><td><audio width=\"\" height=\" \" src=\"docs/assets/anechoic-inf_snr-nr_nr_on-wdrc_aware.wav\"  controls>'</audio></td></tr><tr><td>anechoic-high_snr-nr_Moderate</td><td><audio width=\"\" height=\" \" src=\"docs/assets/anechoic-high_snr-nr_nr_on-wdrc_lin.wav\"  controls>'</audio></td><td><audio width=\"\" height=\" \" src=\"docs/assets/anechoic-high_snr-nr_nr_on-wdrc_fast.wav\"  controls>'</audio></td><td><audio width=\"\" height=\" \" src=\"docs/assets/anechoic-high_snr-nr_nr_on-wdrc_slow.wav\"  controls>'</audio></td><td><audio width=\"\" height=\" \" src=\"docs/assets/anechoic-high_snr-nr_nr_on-wdrc_aware.wav\"  controls>'</audio></td></tr><tr><td>anechoic-medium_snr-nr_Moderate</td><td><audio width=\"\" height=\" \" src=\"docs/assets/anechoic-medium_snr-nr_nr_on-wdrc_lin.wav\"  controls>'</audio></td><td><audio width=\"\" height=\" \" src=\"docs/assets/anechoic-medium_snr-nr_nr_on-wdrc_fast.wav\"  controls>'</audio></td><td><audio width=\"\" height=\" \" src=\"docs/assets/anechoic-medium_snr-nr_nr_on-wdrc_slow.wav\"  controls>'</audio></td><td><audio width=\"\" height=\" \" src=\"docs/assets/anechoic-medium_snr-nr_nr_on-wdrc_aware.wav\"  controls>'</audio></td></tr><tr><td>anechoic-low_snr-nr_Moderate</td><td><audio width=\"\" height=\" \" src=\"docs/assets/anechoic-low_snr-nr_nr_on-wdrc_lin.wav\"  controls>'</audio></td><td><audio width=\"\" height=\" \" src=\"docs/assets/anechoic-low_snr-nr_nr_on-wdrc_fast.wav\"  controls>'</audio></td><td><audio width=\"\" height=\" \" src=\"docs/assets/anechoic-low_snr-nr_nr_on-wdrc_slow.wav\"  controls>'</audio></td><td><audio width=\"\" height=\" \" src=\"docs/assets/anechoic-low_snr-nr_nr_on-wdrc_aware.wav\"  controls>'</audio></td></tr><tr><td>reverberant-inf_snr-nr_Moderate</td><td><audio width=\"\" height=\" \" src=\"docs/assets/reverberant-inf_snr-nr_nr_on-wdrc_lin.wav\"  controls>'</audio></td><td><audio width=\"\" height=\" \" src=\"docs/assets/reverberant-inf_snr-nr_nr_on-wdrc_fast.wav\"  controls>'</audio></td><td><audio width=\"\" height=\" \" src=\"docs/assets/reverberant-inf_snr-nr_nr_on-wdrc_slow.wav\"  controls>'</audio></td><td><audio width=\"\" height=\" \" src=\"docs/assets/reverberant-inf_snr-nr_nr_on-wdrc_aware.wav\"  controls>'</audio></td></tr><tr><td>reverberant-high_snr-nr_Moderate</td><td><audio width=\"\" height=\" \" src=\"docs/assets/reverberant-high_snr-nr_nr_on-wdrc_lin.wav\"  controls>'</audio></td><td><audio width=\"\" height=\" \" src=\"docs/assets/reverberant-high_snr-nr_nr_on-wdrc_fast.wav\"  controls>'</audio></td><td><audio width=\"\" height=\" \" src=\"docs/assets/reverberant-high_snr-nr_nr_on-wdrc_slow.wav\"  controls>'</audio></td><td><audio width=\"\" height=\" \" src=\"docs/assets/reverberant-high_snr-nr_nr_on-wdrc_aware.wav\"  controls>'</audio></td></tr><tr><td>reverberant-medium_snr-nr_Moderate</td><td><audio width=\"\" height=\" \" src=\"docs/assets/reverberant-medium_snr-nr_nr_on-wdrc_lin.wav\"  controls>'</audio></td><td><audio width=\"\" height=\" \" src=\"docs/assets/reverberant-medium_snr-nr_nr_on-wdrc_fast.wav\"  controls>'</audio></td><td><audio width=\"\" height=\" \" src=\"docs/assets/reverberant-medium_snr-nr_nr_on-wdrc_slow.wav\"  controls>'</audio></td><td><audio width=\"\" height=\" \" src=\"docs/assets/reverberant-medium_snr-nr_nr_on-wdrc_aware.wav\"  controls>'</audio></td></tr><tr><td>reverberant-low_snr-nr_Moderate</td><td><audio width=\"\" height=\" \" src=\"docs/assets/reverberant-low_snr-nr_nr_on-wdrc_lin.wav\"  controls>'</audio></td><td><audio width=\"\" height=\" \" src=\"docs/assets/reverberant-low_snr-nr_nr_on-wdrc_fast.wav\"  controls>'</audio></td><td><audio width=\"\" height=\" \" src=\"docs/assets/reverberant-low_snr-nr_nr_on-wdrc_slow.wav\"  controls>'</audio></td><td><audio width=\"\" height=\" \" src=\"docs/assets/reverberant-low_snr-nr_nr_on-wdrc_aware.wav\"  controls>'</audio></td></tr></table>"
      ],
      "text/plain": [
       "<IPython.core.display.HTML object>"
      ]
     },
     "metadata": {},
     "output_type": "display_data"
    }
   ],
   "source": [
    "display(HTML(\n",
    "   '<table class = \"center\"><tr>{}</tr></table>'.format(\n",
    "       '</tr><tr>'.join(\n",
    "           '<td>{}</td>'.format('</td><td>'.join(str(_) for _ in row)) for row in data)\n",
    "       )\n",
    "))"
   ]
  },
  {
   "cell_type": "code",
   "execution_count": 20,
   "id": "c0b8f8d2",
   "metadata": {},
   "outputs": [],
   "source": [
    "f = open(\"table.html\",\"a\")\n",
    "\n",
    "f.write(\"<!DOCTYPE html>\")\n",
    "f.write(\"<html>\")\n",
    "f.write(\"<body>\")\n",
    "\n",
    "f.write(\n",
    "    '<table class = \"center\"><tr>{}</tr></table>'.format(\n",
    "       '</tr><tr>'.join(\n",
    "           '<td>{}</td>'.format('</td><td>'.join(str(_) for _ in row)) for row in data)\n",
    "       ))\n",
    "\n",
    "f.write(\"</html>\")\n",
    "f.write(\"</body>\")\n",
    "\n",
    "f.close()"
   ]
  },
  {
   "cell_type": "code",
   "execution_count": null,
   "id": "1c5cb1fc-d195-4603-af87-64ffe8224825",
   "metadata": {},
   "outputs": [],
   "source": []
  },
  {
   "cell_type": "code",
   "execution_count": null,
   "id": "2d53075c-d5e9-4a65-b253-5f36b3ec69e1",
   "metadata": {},
   "outputs": [],
   "source": []
  }
 ],
 "metadata": {
  "kernelspec": {
   "display_name": "Python 3 (ipykernel)",
   "language": "python",
   "name": "python3"
  },
  "language_info": {
   "codemirror_mode": {
    "name": "ipython",
    "version": 3
   },
   "file_extension": ".py",
   "mimetype": "text/x-python",
   "name": "python",
   "nbconvert_exporter": "python",
   "pygments_lexer": "ipython3",
   "version": "3.9.5"
  },
  "vscode": {
   "interpreter": {
    "hash": "3d597f4c481aa0f25dceb95d2a0067e73c0966dcbd003d741d821a7208527ecf"
   }
  }
 },
 "nbformat": 4,
 "nbformat_minor": 5
}
